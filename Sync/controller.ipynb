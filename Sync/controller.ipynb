{
 "cells": [
  {
   "cell_type": "code",
   "execution_count": 1,
   "metadata": {},
   "outputs": [],
   "source": [
    "import serial\n",
    "import serial.tools.list_ports\n",
    "\n",
    "import threading\n",
    "import time\n",
    "\n",
    "from IPython.display import display\n",
    "\n",
    "import numpy as np"
   ]
  },
  {
   "cell_type": "code",
   "execution_count": 2,
   "metadata": {},
   "outputs": [],
   "source": [
    "class STmic:\n",
    "    def __init__(self):\n",
    "        ports=serial.tools.list_ports.comports()\n",
    "        for p in ports:\n",
    "            if p.vid==61525 and p.pid==38912:\n",
    "                self.device=serial.Serial(p.device,baudrate=115200)\n",
    "        if not hasattr(self,'device'):\n",
    "            raise Exception('No controller unit detected')\n",
    "            \n",
    "    def __del__(self):\n",
    "        self.device.close()\n",
    "        \n",
    "    \n",
    "    #this method reads voltage for 2v scale\n",
    "    def read_voltage(self):\n",
    "        cmd = \"m1\"+\"200000\"+ \"1\" + \"160\" + \"130\" + \"1\" + \"160\" + \"130\"+ \"\\r\"\n",
    "        bytedata=bytearray(4*4)\n",
    "        self.device.reset_output_buffer()\n",
    "        self.device.reset_input_buffer()\n",
    "        self.device.write(bytes(cmd,'utf-8'))\n",
    "        self.device.readline()\n",
    "        self.device.readinto(bytedata)\n",
    "        data=np.frombuffer(bytedata,dtype='uint16').reshape((2,4))\n",
    "        raw1=7.9000*(1.94-1.5*data[0,:]/1700)\n",
    "        return raw1\n",
    "    \n",
    "    def read_voltage_avg(self):\n",
    "        return float(np.array(self.read_voltage(),dtype=np.float64).mean())"
   ]
  },
  {
   "cell_type": "code",
   "execution_count": 3,
   "metadata": {},
   "outputs": [],
   "source": [
    "\n",
    "#motor related variables\n",
    "HIGH_VOLTAGE_THRESHOLD = 3.0 #CONST #threshold before the voltage becomes high from undefined\n",
    "LOW_VOLTAGE_THRESHOLD = 0.5 #CONST #theshold before the voltage becomes undefined\n",
    "previous_voltage_state = 0 #0 for low voltage 1 for high voltage\n",
    "motor_phase_enum = 0 #0-3199 for each hall sensor\n",
    "#projector related variables\n",
    "current_image = 0 #current image index\n",
    "projection_state = 0 #1 for start, 0 for stop, 2 for starting\n",
    "image_lengths = [] #image_lengths = [1,3,3] means image 0 exposure duration is 1, image 1 exposure duration is 3,image 3 exposure duration is 3\n",
    "exposure_counts = 0 #number of exposures the current image has already experienced\n",
    "\n",
    "\n",
    "\n",
    "#function digitises voltages level, outputs -1 for undefined voltage levels\n",
    "#https://cdn.phidgets.com/docs/images/thumb/0/00/LogicLevel_visualization.jpg/450px-LogicLevel_visualization.jpg\n",
    "def digitise_voltage(voltage):\n",
    "    if voltage >= HIGH_VOLTAGE_THRESHOLD:\n",
    "        return 1\n",
    "    if voltage <= LOW_VOLTAGE_THRESHOLD:\n",
    "        return 0\n",
    "    else:\n",
    "        return -1\n",
    "    \n",
    "#also updates the previous voltage state when called if changed\n",
    "def is_voltage_changed(controller):\n",
    "    detected_voltage = controller.read_voltage_avg()\n",
    "    if (detected_voltage > HIGH_VOLTAGE_THRESHOLD and previous_voltage_state == 0) or (detected_voltage < LOW_VOLTAGE_THRESHOLD and previous_voltage_state == 1):\n",
    "        previous_voltage_state = 1 - previous_voltage_state\n",
    "        return 1\n",
    "    else:\n",
    "        return 0\n",
    "\n",
    "def send_trigger():\n",
    "    pass#TODO\n",
    "\n",
    "def reset_projector():\n",
    "    projection_state = 0\n",
    "    exposure_counts = 0\n",
    "    current_image = 0\n",
    "\n",
    "def reset_motor():\n",
    "    previous_voltage_state = 0\n",
    "    motor_phase_enum = 0\n",
    "    pass\n",
    "\n",
    "#this function is called when projector sends \"image ready signal\"\n",
    "def initiate_pulses():\n",
    "    motor_state = 2\n",
    "\n",
    "def output_pulse():\n",
    "    print(\"pulse outputted\")\n",
    "    \n",
    "def start_operation(controller):\n",
    "    while projection_state != 0:\n",
    "        if projection_state == 0:\n",
    "            reset_projector()\n",
    "            break\n",
    "        if projection_state == 2 and motor_phase_enum == 1:\n",
    "            projection_state == 1\n",
    "        if is_voltage_changed(controller):\n",
    "            motor_phase_enum += 1\n",
    "            if projection_state == 1:\n",
    "                exposure_counts += 1\n",
    "                send_trigger()#TODO\n",
    "            if exposure_counts == image_lengths[current_image]:\n",
    "                current_image += 1\n",
    "                exposure_counts = 0\n",
    "    del controller\n",
    "    print(\"operation ended\")\n",
    "    return\n",
    "\n"
   ]
  },
  {
   "cell_type": "code",
   "execution_count": 25,
   "metadata": {},
   "outputs": [
    {
     "name": "stdout",
     "output_type": "stream",
     "text": [
      "0.21027941176470544\n"
     ]
    }
   ],
   "source": [
    "controller = STmic()\n",
    "print(controller.read_voltage_avg())\n",
    "del controller"
   ]
  },
  {
   "cell_type": "code",
   "execution_count": null,
   "metadata": {},
   "outputs": [],
   "source": []
  }
 ],
 "metadata": {
  "kernelspec": {
   "display_name": "Python 3 (ipykernel)",
   "language": "python",
   "name": "python3"
  },
  "language_info": {
   "codemirror_mode": {
    "name": "ipython",
    "version": 3
   },
   "file_extension": ".py",
   "mimetype": "text/x-python",
   "name": "python",
   "nbconvert_exporter": "python",
   "pygments_lexer": "ipython3",
   "version": "3.11.7"
  },
  "vscode": {
   "interpreter": {
    "hash": "f809a9dfa0e0a335b59a7536098ca304ba534980b617098700c637c487e1c96d"
   }
  }
 },
 "nbformat": 4,
 "nbformat_minor": 2
}
